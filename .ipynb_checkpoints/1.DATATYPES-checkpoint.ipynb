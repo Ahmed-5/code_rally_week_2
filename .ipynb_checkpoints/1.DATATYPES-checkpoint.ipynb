{
 "cells": [
  {
   "cell_type": "markdown",
   "id": "4a273028",
   "metadata": {},
   "source": [
    "# DATA STRUCTURES"
   ]
  },
  {
   "cell_type": "markdown",
   "id": "bdced18d",
   "metadata": {},
   "source": [
    "    https://docs.python.org/3/tutorial/datastructures.html\n",
    "    https://visualgo.net/en"
   ]
  },
  {
   "cell_type": "markdown",
   "id": "d35c222f",
   "metadata": {},
   "source": [
    "## What is a data structure??\n",
    "    A data structure is a container we save data in it to ease processing the data and apply a desired set of operstions (with specific time constraints) in the saved data depending on the task we are tackling.\n",
    "    \n",
    "ALSO DEFINED AT WIKIPEDIA AS:\n",
    "\n",
    "    In computer science, a data structure is a data organization, management, and storage format that enables efficient access and modification. More precisely, a data structure is a collection of data values, the relationships among them, and the functions or operations that can be applied to the data, i.e., it is an algebraic structure about data. "
   ]
  },
  {
   "cell_type": "markdown",
   "id": "68a0d1f8",
   "metadata": {},
   "source": [
    "## what are the oprations we can make on data structure?\n",
    "    - Accessing a specific index \"access\"\n",
    "    - Finding a value \"searching\"\n",
    "    - Delete a point in specific index\n",
    "    - Delete by value\n",
    "    - Get min/max value\n",
    "    - Add new value \"addition\""
   ]
  },
  {
   "cell_type": "markdown",
   "id": "683a2e35",
   "metadata": {},
   "source": [
    "# 1. STACKS"
   ]
  },
  {
   "cell_type": "code",
   "execution_count": 1,
   "id": "2fe654b9",
   "metadata": {},
   "outputs": [
    {
     "name": "stdout",
     "output_type": "stream",
     "text": [
      "Initial stack:\n",
      "deque(['a', 'b', 'c'])\n",
      "\n",
      "Elements popped from stack:\n",
      "c\n",
      "b\n",
      "a\n",
      "\n",
      "Stack after elements are popped:\n",
      "deque([])\n"
     ]
    }
   ],
   "source": [
    "from collections import deque\n",
    "# from queue import LifoQueue\n",
    "\n",
    "stack = deque()\n",
    " \n",
    "# append() function to push\n",
    "# element in the stack\n",
    "stack.append('a')\n",
    "stack.append('b')\n",
    "stack.append('c')\n",
    " \n",
    "print('Initial stack:')\n",
    "print(stack)\n",
    " \n",
    "# pop() function to pop\n",
    "# element from stack in\n",
    "# LIFO order\n",
    "print('\\nElements popped from stack:')\n",
    "print(stack.pop())\n",
    "print(stack.pop())\n",
    "print(stack.pop())\n",
    " \n",
    "print('\\nStack after elements are popped:')\n",
    "print(stack)"
   ]
  },
  {
   "cell_type": "markdown",
   "id": "ecef39b2",
   "metadata": {},
   "source": [
    "# 2. QUEUES"
   ]
  },
  {
   "cell_type": "code",
   "execution_count": 3,
   "id": "b0139d24",
   "metadata": {},
   "outputs": [
    {
     "name": "stdout",
     "output_type": "stream",
     "text": [
      "Initial queue:\n",
      "deque(['a', 'b', 'c'])\n",
      "\n",
      "Elements popped from stack:\n",
      "a\n",
      "b\n",
      "c\n",
      "\n",
      "Stack after elements are popped:\n",
      "deque([])\n"
     ]
    }
   ],
   "source": [
    "from collections import deque\n",
    "# from queue import Queue\n",
    "\n",
    "queue = deque()\n",
    " \n",
    "# append() function to push\n",
    "# element in the stack\n",
    "queue.append('a')\n",
    "queue.append('b')\n",
    "queue.append('c')\n",
    " \n",
    "print('Initial queue:')\n",
    "print(queue)\n",
    " \n",
    "# pop() function to pop\n",
    "# element from stack in\n",
    "# LIFO order\n",
    "print('\\nElements popped from stack:')\n",
    "print(queue.popleft())\n",
    "print(queue.popleft())\n",
    "print(queue.popleft())\n",
    " \n",
    "print('\\nStack after elements are popped:')\n",
    "print(queue)"
   ]
  },
  {
   "cell_type": "markdown",
   "id": "071dac5b",
   "metadata": {},
   "source": [
    "# 3. LINKED LISTS"
   ]
  },
  {
   "cell_type": "code",
   "execution_count": 22,
   "id": "9b744b1c",
   "metadata": {},
   "outputs": [],
   "source": [
    "class Node:\n",
    "    def __init__(self, value):\n",
    "        self.value = value\n",
    "        self.next = None\n",
    "        \n",
    "    def set_next(self, node):\n",
    "        self.next = node\n",
    "        \n",
    "class SinglyLinkedList:\n",
    "    def __init__(self):\n",
    "        self.front = None\n",
    "        self.size = 0\n",
    "        \n",
    "    def add_to_end(self, value):\n",
    "        self.size += 1\n",
    "        new_node = Node(value)\n",
    "        if self.front == None:\n",
    "            self.front = new_node\n",
    "        else:\n",
    "            current = self.front\n",
    "            while current.next != None:\n",
    "                current = current.next\n",
    "            current.next = new_node\n",
    "    \n",
    "    def add_to_front(self, value):\n",
    "        self.size += 1\n",
    "        new_node = Node(value)\n",
    "        new_node.next = self.front\n",
    "        self.front = new_node\n",
    "        \n",
    "    def add_at(self, index, value):\n",
    "        self.size += 1\n",
    "        new_node = Node(value)\n",
    "        if index == 0:\n",
    "            self.add_to_front(value)\n",
    "            return\n",
    "        \n",
    "        elif index == -1:\n",
    "            self.add_to_end(value)\n",
    "            return\n",
    "        \n",
    "        elif index<self.size:\n",
    "            current = self.front\n",
    "            while index > 1:\n",
    "                current = current.next \n",
    "                index -= 1\n",
    "            new_node.next = current.next\n",
    "            current.next = new_node\n",
    "        else:\n",
    "            print(\"Linked list size is\", self.size, \"can not add at index\", index)\n",
    "            return\n",
    "        \n",
    "    def remove_node(self, value):\n",
    "        previous = None\n",
    "        current = self.front\n",
    "        while current != None:\n",
    "            if current.value == value:\n",
    "                self.size -= 1\n",
    "                if previous == None:\n",
    "                    self.front = None\n",
    "                else:\n",
    "                    previous.next = current.next\n",
    "            previous = current\n",
    "            current = current.next\n",
    "            \n",
    "    def get_index(self, value):\n",
    "        index = 0\n",
    "        current = self.front\n",
    "        while current != None:\n",
    "            if current.value == value:\n",
    "                return index\n",
    "            current = current.next\n",
    "            index += 1\n",
    "        if index == self.size:\n",
    "            return -1\n",
    "    \n",
    "    def get_value(self, index):\n",
    "        if index>self.size:\n",
    "            raise \"Out of Range\"\n",
    "        if index == -1:\n",
    "            index = self.size -1\n",
    "            \n",
    "        current = self.front\n",
    "        while index>0:\n",
    "            current = current.next\n",
    "            index -= 1\n",
    "        return current.value\n",
    "            \n",
    "    def traverse(self):\n",
    "        current = self.front\n",
    "        if self.size == 0:\n",
    "            print(\"Linked list is empty\")\n",
    "            return\n",
    "        else:\n",
    "            while current != None:\n",
    "                if current.next != None:\n",
    "                    print(current.value, end=' -> ')\n",
    "                    current = current.next\n",
    "                else:\n",
    "                    print(current.value)\n",
    "                    current = current.next"
   ]
  },
  {
   "cell_type": "code",
   "execution_count": 23,
   "id": "adba943f",
   "metadata": {},
   "outputs": [
    {
     "name": "stdout",
     "output_type": "stream",
     "text": [
      "Linked list is empty\n",
      "1 -> 2\n",
      "1\n",
      "3 -> 10 -> 1\n",
      "index of 10 is 1\n",
      "value at index 2 is 1\n"
     ]
    }
   ],
   "source": [
    "sll = SinglyLinkedList()\n",
    "sll.traverse()\n",
    "sll.add_to_end(1)\n",
    "sll.add_to_end(2)\n",
    "sll.traverse()\n",
    "sll.remove_node(2)\n",
    "sll.traverse()\n",
    "sll.add_to_front(3)\n",
    "sll.add_at(1, 10)\n",
    "sll.traverse()\n",
    "print(\"index of 10 is\", sll.get_index(10))\n",
    "print(\"value at index 2 is\", sll.get_value(2))"
   ]
  },
  {
   "cell_type": "markdown",
   "id": "a19fb656",
   "metadata": {},
   "source": [
    "# 4. ARRAYS\n",
    "    1. DYNAMIC ARRAYS\n",
    "    2. STATIC ARRAYS"
   ]
  },
  {
   "cell_type": "code",
   "execution_count": 26,
   "id": "ecc8695d",
   "metadata": {},
   "outputs": [
    {
     "name": "stdout",
     "output_type": "stream",
     "text": [
      "[1, 2, 3, 4]\n",
      "1 2 3 4\n",
      "1 2 hi 5\n"
     ]
    }
   ],
   "source": [
    "l = [1,2,3,4]\n",
    "print(l)\n",
    "print(*l)\n",
    "l[2] = 'hi'\n",
    "l.pop()\n",
    "l.append(5)\n",
    "print(*l)"
   ]
  },
  {
   "cell_type": "markdown",
   "id": "b8b8fbaa",
   "metadata": {},
   "source": [
    "# 5. SETS"
   ]
  },
  {
   "cell_type": "markdown",
   "id": "884ffd8a",
   "metadata": {},
   "source": [
    "# 6. HASHMAPS"
   ]
  },
  {
   "cell_type": "markdown",
   "id": "e8193075",
   "metadata": {},
   "source": [
    "# 7. HEAPS"
   ]
  },
  {
   "cell_type": "markdown",
   "id": "9200b21b",
   "metadata": {},
   "source": [
    "# 8. PRIORITY QUEUES"
   ]
  },
  {
   "cell_type": "markdown",
   "id": "0aa12828",
   "metadata": {},
   "source": [
    "# 9. TREES"
   ]
  }
 ],
 "metadata": {
  "kernelspec": {
   "display_name": "Python 3",
   "language": "python",
   "name": "python3"
  },
  "language_info": {
   "codemirror_mode": {
    "name": "ipython",
    "version": 3
   },
   "file_extension": ".py",
   "mimetype": "text/x-python",
   "name": "python",
   "nbconvert_exporter": "python",
   "pygments_lexer": "ipython3",
   "version": "3.8.8"
  }
 },
 "nbformat": 4,
 "nbformat_minor": 5
}
