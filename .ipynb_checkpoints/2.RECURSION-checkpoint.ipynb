{
 "cells": [
  {
   "cell_type": "markdown",
   "id": "06088e5a",
   "metadata": {},
   "source": [
    "# RECURSION VS ITERATIONS\n",
    "# WHAT TO CHOOSE??"
   ]
  },
  {
   "cell_type": "markdown",
   "id": "f4934538",
   "metadata": {},
   "source": [
    "# RECURSIVE CODE:\n",
    "jkflsjdfklsdj"
   ]
  },
  {
   "cell_type": "markdown",
   "id": "899cc4ec",
   "metadata": {},
   "source": [
    "# ITERATIVE CODE:\n",
    "jkflsjdfklsdj"
   ]
  },
  {
   "cell_type": "markdown",
   "id": "663e4fb0",
   "metadata": {},
   "source": [
    "# RECURSION ANALYSIS:\n",
    "    EQUATIONS\n",
    "    RECUSION TREE\n",
    "    MASTER THEOREM"
   ]
  },
  {
   "cell_type": "markdown",
   "id": "ad4ac60c",
   "metadata": {},
   "source": [
    "# DIVIDE AND CONQUER:\n",
    "    DIVIDE\n",
    "    CONQUER \n",
    "    COMBINE"
   ]
  },
  {
   "cell_type": "markdown",
   "id": "c5b6828f",
   "metadata": {},
   "source": [
    "# FIBONACCI SERIES"
   ]
  },
  {
   "cell_type": "code",
   "execution_count": null,
   "id": "c7e44218",
   "metadata": {},
   "outputs": [],
   "source": []
  }
 ],
 "metadata": {
  "kernelspec": {
   "display_name": "Python 3",
   "language": "python",
   "name": "python3"
  },
  "language_info": {
   "codemirror_mode": {
    "name": "ipython",
    "version": 3
   },
   "file_extension": ".py",
   "mimetype": "text/x-python",
   "name": "python",
   "nbconvert_exporter": "python",
   "pygments_lexer": "ipython3",
   "version": "3.8.8"
  }
 },
 "nbformat": 4,
 "nbformat_minor": 5
}
