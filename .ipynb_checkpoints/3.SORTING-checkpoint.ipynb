{
 "cells": [
  {
   "cell_type": "markdown",
   "id": "33f38b83",
   "metadata": {},
   "source": [
    "# Heap Sort"
   ]
  },
  {
   "cell_type": "code",
   "execution_count": 4,
   "id": "b5327cb7",
   "metadata": {},
   "outputs": [
    {
     "name": "stdout",
     "output_type": "stream",
     "text": [
      "12 23 32 35 46 67 86 90\n"
     ]
    }
   ],
   "source": [
    "def max_heapify(arr, i, size):\n",
    "    largest = i;\n",
    "    if (2 * i + 1 < size and arr[largest] < arr[2 * i + 1]):\n",
    "        largest = 2 * i + 1\n",
    "    if (2 * i + 2 < size and arr[largest] < arr[2 * i + 2]):\n",
    "        largest = 2 * i + 2\n",
    "    if (largest != i):\n",
    "        arr[i], arr[largest] = arr[largest], arr[i]\n",
    "        max_heapify(arr, largest, size)\n",
    "    return;\n",
    "\n",
    "def build_heap(arr, size):\n",
    "    for i in range((size // 2) - 1, -1, -1):\n",
    "        max_heapify(arr, i, size)\n",
    "\n",
    "def heap_sort(arr, size):\n",
    "    build_heap(arr, size)\n",
    "    for i in range(size-1, 0, -1):\n",
    "        arr[i], arr[0] = arr[0], arr[i]\n",
    "        max_heapify(arr, 0, i)\n",
    "        \n",
    "arr = [35, 23 ,46, 86, 90, 12, 32, 67]\n",
    "heap_sort(arr, len(arr))\n",
    "print(*arr)"
   ]
  },
  {
   "cell_type": "markdown",
   "id": "e86d84da",
   "metadata": {},
   "source": [
    "# Bubble Sort"
   ]
  },
  {
   "cell_type": "code",
   "execution_count": 5,
   "id": "c479a71e",
   "metadata": {},
   "outputs": [
    {
     "name": "stdout",
     "output_type": "stream",
     "text": [
      "12 23 32 35 46 67 86 90\n"
     ]
    }
   ],
   "source": [
    "def bubble_sort(arr, n):\n",
    "    for i in range(n):\n",
    "            for j in range(n-i-1):\n",
    "                if (arr[j] > arr[j + 1]):\n",
    "                    arr[j], arr[j + 1] = arr[j+1], arr[j]\n",
    "    \n",
    "arr = [35, 23 ,46, 86, 90, 12, 32, 67]\n",
    "bubble_sort(arr, len(arr))\n",
    "print(*arr)"
   ]
  },
  {
   "cell_type": "markdown",
   "id": "85331351",
   "metadata": {},
   "source": [
    "# Inserion Sort"
   ]
  },
  {
   "cell_type": "code",
   "execution_count": 6,
   "id": "85152345",
   "metadata": {},
   "outputs": [
    {
     "name": "stdout",
     "output_type": "stream",
     "text": [
      "12 23 32 35 46 67 86 90\n"
     ]
    }
   ],
   "source": [
    "def insersion_sort(arr, size):\n",
    "    for i in range(1,size):\n",
    "            key = arr[i]\n",
    "            for j in range(i-1, -2, -1):\n",
    "                if (key < arr[j]):\n",
    "                    arr[j + 1] = arr[j]\n",
    "                else:\n",
    "                    break\n",
    "            arr[j+1] = key;\n",
    "            \n",
    "arr = [35, 23, 46, 86, 90, 12, 32, 67]\n",
    "insersion_sort(arr, len(arr))\n",
    "print(*arr)"
   ]
  },
  {
   "cell_type": "markdown",
   "id": "09f23ee4",
   "metadata": {},
   "source": [
    "# Merge Sort"
   ]
  },
  {
   "cell_type": "code",
   "execution_count": 55,
   "id": "8e692347",
   "metadata": {},
   "outputs": [],
   "source": [
    "def merge(left, size_l, right, size_r):\n",
    "    temp = []\n",
    "    index_l = 0\n",
    "    index_r = 0\n",
    "    while (index_l < size_l or index_r < size_r):\n",
    "        if (index_l < size_l and index_r < size_r):\n",
    "            if (left[index_l] > right[index_r]):\n",
    "                temp.append(right[index_r])\n",
    "                index_r += 1\n",
    "            else:\n",
    "                temp.append(left[index_l])\n",
    "                index_l += 1\n",
    "        elif (index_l >= size_l):\n",
    "            temp.extend(right[index_r:])\n",
    "        else:\n",
    "            temp.extend(left[index_l:])\n",
    "    index_temp = 0\n",
    "    for i in range(size_l):\n",
    "        left[index_l] = temp[index_temp]\n",
    "        index_temp += 1\n",
    "    for i in range(size_r):\n",
    "        right[index_r] = temp[index_temp]\n",
    "        index_temp += 1\n",
    "    return\n",
    "\n",
    "def merge_sort(arr, size):\n",
    "    if (size == 1):\n",
    "        return\n",
    "    merge_sort(arr, size // 2)\n",
    "    merge_sort(arr[size//2:], size - size//2)\n",
    "    merge(arr, size // 2, arr[size//2:], size - size//2)\n",
    "    return\n",
    "                        \n",
    "                      "
   ]
  },
  {
   "cell_type": "markdown",
   "id": "b3b8b326",
   "metadata": {},
   "source": [
    "# Quick Sort"
   ]
  },
  {
   "cell_type": "code",
   "execution_count": 52,
   "id": "cc799d8b",
   "metadata": {},
   "outputs": [
    {
     "name": "stdout",
     "output_type": "stream",
     "text": [
      "12 23 32 35 46 67 86 90\n"
     ]
    }
   ],
   "source": [
    "def partition(arr, first, last):\n",
    "    if (first < last):\n",
    "        key = arr[last-1]\n",
    "        i = first - 1\n",
    "        for j in range(first,last):\n",
    "            if (arr[j] < key):\n",
    "                i += 1\n",
    "                arr[i], arr[j] = arr[j], arr[i]\n",
    "        arr[i+1], arr[j] = arr[j], arr[i+1]\n",
    "        return i+1\n",
    "    return first\n",
    "\n",
    "def quick_sort(arr, start, end):\n",
    "    if (end-start <= 1):\n",
    "        return\n",
    "    q = partition(arr, start, end)\n",
    "    quick_sort(arr, start, q)\n",
    "    quick_sort(arr, q, end)\n",
    "    return\n",
    "\n",
    "arr = [35, 23, 46, 86, 90, 12, 32, 67]\n",
    "quick_sort(arr, 0, len(arr))\n",
    "print(*arr)"
   ]
  },
  {
   "cell_type": "code",
   "execution_count": null,
   "id": "0ba9d83e",
   "metadata": {},
   "outputs": [],
   "source": []
  }
 ],
 "metadata": {
  "kernelspec": {
   "display_name": "Python 3",
   "language": "python",
   "name": "python3"
  },
  "language_info": {
   "codemirror_mode": {
    "name": "ipython",
    "version": 3
   },
   "file_extension": ".py",
   "mimetype": "text/x-python",
   "name": "python",
   "nbconvert_exporter": "python",
   "pygments_lexer": "ipython3",
   "version": "3.8.8"
  }
 },
 "nbformat": 4,
 "nbformat_minor": 5
}
