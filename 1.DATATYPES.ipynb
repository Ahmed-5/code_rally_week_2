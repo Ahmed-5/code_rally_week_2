{
 "cells": [
  {
   "cell_type": "markdown",
   "id": "4a273028",
   "metadata": {},
   "source": [
    "# DATA STRUCTURES"
   ]
  },
  {
   "cell_type": "markdown",
   "id": "5ba7a36b",
   "metadata": {},
   "source": [
    "    https://docs.python.org/3/tutorial/datastructures.html\n",
    "    https://www.ics.uci.edu/~pattis/ICS-33/lectures/complexitypython.txt\n",
    "    https://visualgo.net/en"
   ]
  },
  {
   "cell_type": "markdown",
   "id": "d35c222f",
   "metadata": {},
   "source": [
    "## What is a data structure??\n",
    "    A data structure is a container we save data in it to ease processing the data and apply a desired set of operstions (with specific time constraints) in the saved data depending on the task we are tackling.\n",
    "    \n",
    "ALSO DEFINED AT WIKIPEDIA AS:\n",
    "\n",
    "    In computer science, a data structure is a data organization, management, and storage format that enables efficient access and modification. More precisely, a data structure is a collection of data values, the relationships among them, and the functions or operations that can be applied to the data, i.e., it is an algebraic structure about data. "
   ]
  },
  {
   "cell_type": "markdown",
   "id": "68a0d1f8",
   "metadata": {},
   "source": [
    "## what are the oprations we can make on data structure?\n",
    "    - Accessing a specific index \"access\"\n",
    "    - Finding a value \"searching\"\n",
    "    - Delete a point in specific index\n",
    "    - Delete by value\n",
    "    - Get min/max value\n",
    "    - Add new value \"addition\""
   ]
  },
  {
   "cell_type": "markdown",
   "id": "683a2e35",
   "metadata": {},
   "source": [
    "# 1. STACKS"
   ]
  },
  {
   "cell_type": "markdown",
   "id": "62435f73",
   "metadata": {},
   "source": [
    "### In real life the stack can be thought of like piling books on top of each other, the last book added to the pile is got to be at the top\n",
    "\n",
    "### A stack is a data structure that works on the concept of LIFO (Last In First Out), or in this case the last element pushed to the stack is the first to be popped\n",
    "\n",
    "### An abstract stack only supports:\n",
    "    1. Adding elements at top\n",
    "    2. Accessing the top element\n",
    "    3. deleting the top element"
   ]
  },
  {
   "cell_type": "code",
   "execution_count": 1,
   "id": "55889f87",
   "metadata": {},
   "outputs": [
    {
     "name": "stdout",
     "output_type": "stream",
     "text": [
      "Initial stack:\n",
      "deque(['a', 'b', 'c'])\n",
      "\n",
      "Elements popped from stack:\n",
      "c\n",
      "b\n",
      "a\n",
      "\n",
      "Stack after elements are popped:\n",
      "deque([])\n"
     ]
    }
   ],
   "source": [
    "from collections import deque\n",
    "# from queue import LifoQueue\n",
    "\n",
    "stack = deque()\n",
    " \n",
    "# append() function to push\n",
    "# element in the stack\n",
    "stack.append('a')\n",
    "stack.append('b')\n",
    "stack.append('c')\n",
    " \n",
    "print('Initial stack:')\n",
    "print(stack)\n",
    " \n",
    "# pop() function to pop\n",
    "# element from stack in\n",
    "# LIFO order\n",
    "print('\\nElements popped from stack:')\n",
    "print(stack.pop())\n",
    "print(stack.pop())\n",
    "print(stack.pop())\n",
    " \n",
    "print('\\nStack after elements are popped:')\n",
    "print(stack)"
   ]
  },
  {
   "cell_type": "markdown",
   "id": "ecef39b2",
   "metadata": {},
   "source": [
    "# 2. QUEUES"
   ]
  },
  {
   "cell_type": "markdown",
   "id": "207f83b5",
   "metadata": {},
   "source": [
    "### Its name describes it clearly, it is like people queuing for some service\n",
    "\n",
    "### A queue is a data structure that works on the concept of FIFO (First In First Out), or in this case the First element pushed to the queue is the first to be popped\n",
    "\n",
    "### An abstract queue only supports:\n",
    "    1. Adding elements at the end of the queue\n",
    "    2. Accessing the first element\n",
    "    3. deleting the first element"
   ]
  },
  {
   "cell_type": "code",
   "execution_count": 3,
   "id": "c016e120",
   "metadata": {},
   "outputs": [
    {
     "name": "stdout",
     "output_type": "stream",
     "text": [
      "Initial queue:\n",
      "deque(['a', 'b', 'c'])\n",
      "\n",
      "Elements popped from stack:\n",
      "a\n",
      "b\n",
      "c\n",
      "\n",
      "Stack after elements are popped:\n",
      "deque([])\n"
     ]
    }
   ],
   "source": [
    "from collections import deque\n",
    "# from queue import Queue\n",
    "\n",
    "queue = deque()\n",
    " \n",
    "# append() function to push\n",
    "# element in the stack\n",
    "queue.append('a')\n",
    "queue.append('b')\n",
    "queue.append('c')\n",
    " \n",
    "print('Initial queue:')\n",
    "print(queue)\n",
    " \n",
    "# pop() function to pop\n",
    "# element from stack in\n",
    "# LIFO order\n",
    "print('\\nElements popped from stack:')\n",
    "print(queue.popleft())\n",
    "print(queue.popleft())\n",
    "print(queue.popleft())\n",
    " \n",
    "print('\\nStack after elements are popped:')\n",
    "print(queue)"
   ]
  },
  {
   "cell_type": "markdown",
   "id": "071dac5b",
   "metadata": {},
   "source": [
    "# 3. LINKED LISTS"
   ]
  },
  {
   "cell_type": "markdown",
   "id": "955bef10",
   "metadata": {},
   "source": [
    "### A linked list is a linear collection of data elements whose order is not given by their physical placement in memory. Instead, each element points to the next.\n",
    "\n",
    "### The Linked List supports the following operations:\n",
    "    1. adding an element at certain index\n",
    "    2. removing element by value or index\n",
    "    3. searching for an element by value"
   ]
  },
  {
   "cell_type": "code",
   "execution_count": 22,
   "id": "f53207d9",
   "metadata": {},
   "outputs": [],
   "source": [
    "class Node:\n",
    "    def __init__(self, value):\n",
    "        self.value = value\n",
    "        self.next = None\n",
    "        \n",
    "    def set_next(self, node):\n",
    "        self.next = node\n",
    "        \n",
    "class SinglyLinkedList:\n",
    "    def __init__(self):\n",
    "        self.front = None\n",
    "        self.size = 0\n",
    "        \n",
    "    def add_to_end(self, value):\n",
    "        self.size += 1\n",
    "        new_node = Node(value)\n",
    "        if self.front == None:\n",
    "            self.front = new_node\n",
    "        else:\n",
    "            current = self.front\n",
    "            while current.next != None:\n",
    "                current = current.next\n",
    "            current.next = new_node\n",
    "    \n",
    "    def add_to_front(self, value):\n",
    "        self.size += 1\n",
    "        new_node = Node(value)\n",
    "        new_node.next = self.front\n",
    "        self.front = new_node\n",
    "        \n",
    "    def add_at(self, index, value):\n",
    "        self.size += 1\n",
    "        new_node = Node(value)\n",
    "        if index == 0:\n",
    "            self.add_to_front(value)\n",
    "            return\n",
    "        \n",
    "        elif index == -1:\n",
    "            self.add_to_end(value)\n",
    "            return\n",
    "        \n",
    "        elif index<self.size:\n",
    "            current = self.front\n",
    "            while index > 1:\n",
    "                current = current.next \n",
    "                index -= 1\n",
    "            new_node.next = current.next\n",
    "            current.next = new_node\n",
    "        else:\n",
    "            print(\"Linked list size is\", self.size, \"can not add at index\", index)\n",
    "            return\n",
    "        \n",
    "    def remove_node(self, value):\n",
    "        previous = None\n",
    "        current = self.front\n",
    "        while current != None:\n",
    "            if current.value == value:\n",
    "                self.size -= 1\n",
    "                if previous == None:\n",
    "                    self.front = None\n",
    "                else:\n",
    "                    previous.next = current.next\n",
    "            previous = current\n",
    "            current = current.next\n",
    "            \n",
    "    def get_index(self, value):\n",
    "        index = 0\n",
    "        current = self.front\n",
    "        while current != None:\n",
    "            if current.value == value:\n",
    "                return index\n",
    "            current = current.next\n",
    "            index += 1\n",
    "        if index == self.size:\n",
    "            return -1\n",
    "    \n",
    "    def get_value(self, index):\n",
    "        if index>self.size:\n",
    "            raise \"Out of Range\"\n",
    "        if index == -1:\n",
    "            index = self.size -1\n",
    "            \n",
    "        current = self.front\n",
    "        while index>0:\n",
    "            current = current.next\n",
    "            index -= 1\n",
    "        return current.value\n",
    "            \n",
    "    def traverse(self):\n",
    "        current = self.front\n",
    "        if self.size == 0:\n",
    "            print(\"Linked list is empty\")\n",
    "            return\n",
    "        else:\n",
    "            while current != None:\n",
    "                if current.next != None:\n",
    "                    print(current.value, end=' -> ')\n",
    "                    current = current.next\n",
    "                else:\n",
    "                    print(current.value)\n",
    "                    current = current.next"
   ]
  },
  {
   "cell_type": "code",
   "execution_count": 23,
   "id": "07379698",
   "metadata": {},
   "outputs": [
    {
     "name": "stdout",
     "output_type": "stream",
     "text": [
      "Linked list is empty\n",
      "1 -> 2\n",
      "1\n",
      "3 -> 10 -> 1\n",
      "index of 10 is 1\n",
      "value at index 2 is 1\n"
     ]
    }
   ],
   "source": [
    "sll = SinglyLinkedList()\n",
    "sll.traverse()\n",
    "sll.add_to_end(1)\n",
    "sll.add_to_end(2)\n",
    "sll.traverse()\n",
    "sll.remove_node(2)\n",
    "sll.traverse()\n",
    "sll.add_to_front(3)\n",
    "sll.add_at(1, 10)\n",
    "sll.traverse()\n",
    "print(\"index of 10 is\", sll.get_index(10))\n",
    "print(\"value at index 2 is\", sll.get_value(2))"
   ]
  },
  {
   "cell_type": "markdown",
   "id": "a19fb656",
   "metadata": {},
   "source": [
    "# 4. ARRAYS"
   ]
  },
  {
   "cell_type": "markdown",
   "id": "1c5078ee",
   "metadata": {},
   "source": [
    "### In computer science, an array data structure, or simply an array, is a data structure consisting of a collection of elements (values or variables), each identified by at least one array index or key. An array is stored such that the position of each element can be computed from its index tuple by a mathematical formula. The simplest type of data structure is a linear array, also called one-dimensional array. \n",
    "\n",
    "\n",
    "    1. DYNAMIC ARRAYS\n",
    "    2. STATIC ARRAYS\n",
    "    \n",
    "### An array supports the following operations:\n",
    "    1. accessing an element by index \n",
    "    2. searching\n",
    "    3. sorting\n",
    "    4. assigning an element at certain index a new value"
   ]
  },
  {
   "cell_type": "code",
   "execution_count": 26,
   "id": "a0505462",
   "metadata": {},
   "outputs": [
    {
     "name": "stdout",
     "output_type": "stream",
     "text": [
      "[1, 2, 3, 4]\n",
      "1 2 3 4\n",
      "1 2 hi 5\n"
     ]
    }
   ],
   "source": [
    "l = [1,2,3,4]\n",
    "print(l)\n",
    "print(*l)\n",
    "l[2] = 'hi'\n",
    "l.pop()\n",
    "l.append(5)\n",
    "print(*l)"
   ]
  },
  {
   "cell_type": "markdown",
   "id": "b8b8fbaa",
   "metadata": {},
   "source": [
    "# 5. SETS"
   ]
  },
  {
   "cell_type": "code",
   "execution_count": 33,
   "id": "68307e56",
   "metadata": {},
   "outputs": [
    {
     "name": "stdout",
     "output_type": "stream",
     "text": [
      "basket : {'pear', 'apple', 'banana', 'orange'} \n",
      "\n",
      "orange in basket? True \n",
      "\n",
      "pineapple in basket? False \n",
      "\n",
      "set of unique letter of abracadabra {'d', 'c', 'a', 'r', 'b'} \n",
      "\n",
      "letters in a but not b {'d', 'r', 'b'} \n",
      "\n",
      "letters in a or b {'z', 'd', 'c', 'a', 'm', 'r', 'b', 'l'} \n",
      "\n",
      "letters in a and b {'a', 'c'} \n",
      "\n",
      "letters in a or b but not both {'m', 'z', 'd', 'r', 'b', 'l'} \n",
      "\n"
     ]
    }
   ],
   "source": [
    "basket = {'apple', 'orange', 'apple', 'pear', 'orange', 'banana'}\n",
    "print('basket :',basket, \"\\n\")\n",
    "\n",
    "print(\"orange in basket?\",'orange' in basket, \"\\n\")\n",
    "\n",
    "print(\"pineapple in basket?\",'pineapple' in basket, \"\\n\")\n",
    "\n",
    "\n",
    "a = set('abracadabra')\n",
    "b = set('alacazam')\n",
    "print(\"set of unique letter of abracadabra\", a, \"\\n\")\n",
    "\n",
    "print(\"letters in a but not b\", a - b, \"\\n\")\n",
    "\n",
    "print(\"letters in a or b\", a | b, \"\\n\")\n",
    "\n",
    "print(\"letters in a and b\", a & b, \"\\n\")\n",
    "\n",
    "print(\"letters in a or b but not both\", a ^ b, \"\\n\" )   "
   ]
  },
  {
   "cell_type": "markdown",
   "id": "884ffd8a",
   "metadata": {},
   "source": [
    "# 6. HASHMAPS"
   ]
  },
  {
   "cell_type": "code",
   "execution_count": 46,
   "id": "f8497f48",
   "metadata": {},
   "outputs": [
    {
     "name": "stdout",
     "output_type": "stream",
     "text": [
      "current dictionary {'jack': 4098, 'sape': 4139, 'guido': 4127}\n",
      "tel of jack 4098\n",
      "current dictionary {'jack': 4098, 'guido': 4127, 'irv': 4127}\n",
      "['jack', 'guido', 'irv']\n",
      "['guido', 'irv', 'jack']\n",
      "guido in tel? True\n",
      "jack not in tel? False\n",
      "\n",
      "key value pairs\n",
      "jack 4098\n",
      "guido 4127\n",
      "irv 4127\n"
     ]
    }
   ],
   "source": [
    "tel = {'jack': 4098, 'sape': 4139}\n",
    "tel['guido'] = 4127\n",
    "print(\"current dictionary\", tel)\n",
    "\n",
    "print(\"tel of jack\", tel['jack'])\n",
    "\n",
    "del tel['sape']\n",
    "tel['irv'] = 4127\n",
    "print(\"current dictionary\", tel)\n",
    "\n",
    "print(list(tel))\n",
    "\n",
    "print(sorted(tel))\n",
    "\n",
    "print('guido in tel?','guido' in tel)\n",
    "\n",
    "print('jack not in tel?', 'jack' not in tel)\n",
    "\n",
    "print(\"\\nkey value pairs\")\n",
    "\n",
    "for i in tel.keys():\n",
    "    print (i, tel[i])"
   ]
  },
  {
   "cell_type": "markdown",
   "id": "9200b21b",
   "metadata": {},
   "source": [
    "# 7. PRIORITY QUEUES"
   ]
  },
  {
   "cell_type": "markdown",
   "id": "e8193075",
   "metadata": {},
   "source": [
    "   ##  7.1 HEAPS"
   ]
  },
  {
   "cell_type": "code",
   "execution_count": 49,
   "id": "2e24f723",
   "metadata": {},
   "outputs": [
    {
     "name": "stdout",
     "output_type": "stream",
     "text": [
      "91 89 23 45 24 6 13 10 25\n"
     ]
    }
   ],
   "source": [
    "def max_heapify(arr, i, size):\n",
    "    largest = i\n",
    "    if (2 * i + 1 < size and arr[largest] < arr[2 * i + 1]):\n",
    "        largest = 2 * i + 1\n",
    "    if (2 * i + 2 < size and arr[largest] < arr[2 * i + 2]):\n",
    "        largest = 2 * i + 2\n",
    "    if (largest != i):\n",
    "        arr[i], arr[largest] = arr[largest], arr[i]\n",
    "        max_heapify(arr, largest, size)\n",
    "    return\n",
    "\n",
    "def build_heap(arr, size):\n",
    "    for i in range(size//2 - 1, -1, -1):\n",
    "        max_heapify(arr, i, size)\n",
    "    return\n",
    "\n",
    "arr = [23, 45,13, 89, 24, 6, 91, 10, 25]\n",
    "build_heap(arr, len(arr))\n",
    "print(*arr)"
   ]
  },
  {
   "cell_type": "code",
   "execution_count": 50,
   "id": "ce1c87c8",
   "metadata": {},
   "outputs": [
    {
     "name": "stdout",
     "output_type": "stream",
     "text": [
      "The created heap is : [1, 3, 9, 7, 5]\n",
      "The modified heap after push is : [1, 3, 4, 7, 5, 9]\n",
      "The popped and smallest element is : 1\n"
     ]
    }
   ],
   "source": [
    "import heapq\n",
    "  \n",
    "li = [5, 7, 9, 1, 3]\n",
    "  \n",
    "heapq.heapify(li)\n",
    "  \n",
    "print (\"The created heap is : \",end=\"\")\n",
    "print (list(li))\n",
    "  \n",
    "heapq.heappush(li,4)\n",
    "\n",
    "print (\"The modified heap after push is : \",end=\"\")\n",
    "print (list(li))\n",
    "  \n",
    "print (\"The popped and smallest element is : \",end=\"\")\n",
    "print (heapq.heappop(li))"
   ]
  },
  {
   "cell_type": "markdown",
   "id": "0aa12828",
   "metadata": {},
   "source": [
    "# 8. TREES"
   ]
  },
  {
   "cell_type": "code",
   "execution_count": 55,
   "id": "9a5d1010",
   "metadata": {},
   "outputs": [],
   "source": [
    "class BinNode:\n",
    "    def __init__(self, value):\n",
    "        self.value = value\n",
    "        self.parent = None\n",
    "        self.left = None\n",
    "        self.right = None\n",
    "\n",
    "class BinarySearchTree:\n",
    "    def __init__(self):\n",
    "        self.root = None\n",
    "        \n",
    "    def add_node(self, value):\n",
    "        new_node = BinNode(value)\n",
    "        if self.root == None:\n",
    "            self.root = new_node\n",
    "            return\n",
    "        else:\n",
    "            parent = None\n",
    "            current = self.root\n",
    "            while current != None:\n",
    "                if value>current.value:\n",
    "                    parent = current\n",
    "                    current = current.left\n",
    "                else:\n",
    "                    parent = current\n",
    "                    current = current.right\n",
    "            new_node.parent = parent\n",
    "            if value>parent.value:\n",
    "                parent.left = new_node\n",
    "            else:\n",
    "                parent.right = new_node\n",
    "                \n",
    "    def traverse(self, node):\n",
    "        if node == None:\n",
    "            return\n",
    "        \n",
    "        self.traverse(node.right)\n",
    "        print(node.value)\n",
    "        self.traverse(node.left)"
   ]
  },
  {
   "cell_type": "code",
   "execution_count": 57,
   "id": "49573a53",
   "metadata": {},
   "outputs": [
    {
     "name": "stdout",
     "output_type": "stream",
     "text": [
      "10\n",
      "11\n",
      "15\n",
      "16\n",
      "16\n",
      "18\n",
      "22\n"
     ]
    }
   ],
   "source": [
    "bst = BinarySearchTree()\n",
    "bst.add_node(15)\n",
    "bst.add_node(10)\n",
    "bst.add_node(11)\n",
    "bst.add_node(16)\n",
    "bst.add_node(16)\n",
    "bst.add_node(22)\n",
    "bst.add_node(18)\n",
    "bst.traverse(bst.root)"
   ]
  }
 ],
 "metadata": {
  "kernelspec": {
   "display_name": "Python 3",
   "language": "python",
   "name": "python3"
  },
  "language_info": {
   "codemirror_mode": {
    "name": "ipython",
    "version": 3
   },
   "file_extension": ".py",
   "mimetype": "text/x-python",
   "name": "python",
   "nbconvert_exporter": "python",
   "pygments_lexer": "ipython3",
   "version": "3.8.8"
  }
 },
 "nbformat": 4,
 "nbformat_minor": 5
}
