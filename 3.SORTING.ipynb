{
 "cells": [
  {
   "cell_type": "markdown",
   "id": "eda4e534",
   "metadata": {},
   "source": [
    "# Sorting"
   ]
  },
  {
   "cell_type": "markdown",
   "id": "491a8320",
   "metadata": {},
   "source": [
    "# Why we sort??\n",
    "\n",
    "    Since sorting can often reduce the complexity of a problem, it is an important algorithm in Computer Science. These algorithms have direct applications in searching algorithms, database algorithms, divide and conquer methods, data structure algorithms, and many more."
   ]
  },
  {
   "cell_type": "markdown",
   "id": "dc21d3fd",
   "metadata": {},
   "source": [
    "## Some Common Sorting Algorithms\n",
    "\n",
    "## Some of the most common sorting algorithms are:\n",
    "\n",
    "    1.Selection Sort\n",
    "    2.Bubble Sort\n",
    "    3.Insertion Sort\n",
    "    4.Merge Sort\n",
    "    5.Quick Sort\n",
    "    6.Heap Sort\n",
    "    7.Counting Sort\n",
    "    8.Radix Sort\n",
    "    9.Bucket Sort"
   ]
  },
  {
   "cell_type": "markdown",
   "id": "0685b639",
   "metadata": {},
   "source": [
    "### Most programming languages if not all have an optimized sorting algorithm. e.g. python uses Tim sort a hybrid between merge sort and insertion sort"
   ]
  },
  {
   "cell_type": "code",
   "execution_count": null,
   "id": "9eb2ad16",
   "metadata": {},
   "outputs": [],
   "source": [
    "a = [2,3,1]\n",
    "\n",
    "a.sort()\n",
    "a"
   ]
  },
  {
   "cell_type": "markdown",
   "id": "b5410e8e",
   "metadata": {},
   "source": [
    "## Classification of sorting algorithms\n",
    "### There are many ways to classify the available sorting algorithm in hand but some of those calssifications are based on:\n",
    "    1. Space usage: In place or not\n",
    "    2. Comparison based or not\n",
    "    3. Stability: Stable or not\n",
    "    \n",
    "#### We will many focus on the second classififcation"
   ]
  },
  {
   "cell_type": "markdown",
   "id": "0ef107a9",
   "metadata": {},
   "source": [
    "# COMPARISON BASED ALGORITHMS:"
   ]
  },
  {
   "cell_type": "markdown",
   "id": "a102fda3",
   "metadata": {},
   "source": [
    "# 1.Selection Sort\n",
    "#### Time:\n",
    "    Worst-case performance\tO(n^2)\n",
    "    Best-case performance\t O(n^2)\n",
    "    Average performance       O(n^2)"
   ]
  },
  {
   "cell_type": "markdown",
   "id": "ed8f98ca",
   "metadata": {},
   "source": [
    "![SelectionSort](https://upload.wikimedia.org/wikipedia/commons/9/94/Selection-Sort-Animation.gif \"selection\")"
   ]
  },
  {
   "cell_type": "code",
   "execution_count": null,
   "id": "dc32dd21",
   "metadata": {},
   "outputs": [],
   "source": [
    "def selection_sort(arr):\n",
    "    n = len(arr)\n",
    "    for i in range(n):\n",
    "        min_index = i\n",
    "        for j in range(i,n):\n",
    "            if arr[j] < arr[min_index]:\n",
    "                min_index = j\n",
    "        arr[i], arr[min_index] = arr[min_index], arr[i]\n",
    "        \n",
    "arr = [35, 23 ,46, 86, 90, 12, 32, 67]\n",
    "selection_sort(arr)\n",
    "print(*arr)"
   ]
  },
  {
   "cell_type": "markdown",
   "id": "e86d84da",
   "metadata": {},
   "source": [
    "# 2.Bubble Sort\n",
    "#### Time:\n",
    "    Worst-case performance\tO(n^2)\n",
    "    Best-case performance\t O(n)\n",
    "    Average performance       O(n^2)"
   ]
  },
  {
   "cell_type": "markdown",
   "id": "8b5fb17b",
   "metadata": {},
   "source": [
    "![BubbleSort](https://upload.wikimedia.org/wikipedia/commons/c/c8/Bubble-sort-example-300px.gif \"Bubble\")"
   ]
  },
  {
   "cell_type": "code",
   "execution_count": null,
   "id": "c479a71e",
   "metadata": {},
   "outputs": [],
   "source": [
    "def bubble_sort(arr, n):\n",
    "    for i in range(n):\n",
    "            for j in range(n-i-1):\n",
    "                if (arr[j] > arr[j + 1]):\n",
    "                    arr[j], arr[j + 1] = arr[j+1], arr[j]\n",
    "    \n",
    "arr = [35, 23 ,46, 86, 90, 12, 32, 67]\n",
    "bubble_sort(arr, len(arr))\n",
    "print(*arr)"
   ]
  },
  {
   "cell_type": "markdown",
   "id": "85331351",
   "metadata": {},
   "source": [
    "# 3.Inserion Sort\n",
    "#### Time:\n",
    "    Worst-case performance\tO(n^2)\n",
    "    Best-case performance\t O(n)\n",
    "    Average performance       O(n^2)"
   ]
  },
  {
   "cell_type": "markdown",
   "id": "dd74d4b9",
   "metadata": {},
   "source": [
    "![InsertionSort](https://upload.wikimedia.org/wikipedia/commons/0/0f/Insertion-sort-example-300px.gif \"insertion\")"
   ]
  },
  {
   "cell_type": "code",
   "execution_count": null,
   "id": "85152345",
   "metadata": {},
   "outputs": [],
   "source": [
    "def insersion_sort(arr, size):\n",
    "    for i in range(1,size):\n",
    "            key = arr[i]\n",
    "            for j in range(i-1, -2, -1):\n",
    "                if (key < arr[j]):\n",
    "                    arr[j + 1] = arr[j]\n",
    "                else:\n",
    "                    break\n",
    "            arr[j+1] = key;\n",
    "            \n",
    "arr = [35, 23, 46, 86, 90, 12, 32, 67]\n",
    "insersion_sort(arr, len(arr))\n",
    "print(*arr)"
   ]
  },
  {
   "cell_type": "markdown",
   "id": "09f23ee4",
   "metadata": {},
   "source": [
    "# 4.Merge Sort\n",
    "#### Time:\n",
    "    Worst-case performance\tO(nlogn)\n",
    "    Best-case performance\t Ω(nlogn) typical, Ω(n) natural variant\n",
    "    Average performance\t   Θ(nlogn)"
   ]
  },
  {
   "cell_type": "markdown",
   "id": "c4538b92",
   "metadata": {},
   "source": [
    "![MergeSort](https://upload.wikimedia.org/wikipedia/commons/c/cc/Merge-sort-example-300px.gif \"merge\")"
   ]
  },
  {
   "cell_type": "code",
   "execution_count": null,
   "id": "8e692347",
   "metadata": {},
   "outputs": [],
   "source": [
    "def merge(left, size_l, right, size_r):\n",
    "    temp = []\n",
    "    index_l = 0\n",
    "    index_r = 0\n",
    "    while (index_l < size_l or index_r < size_r):\n",
    "        if (index_l < size_l and index_r < size_r):\n",
    "            if (left[index_l] > right[index_r]):\n",
    "                temp.append(right[index_r])\n",
    "                index_r += 1\n",
    "            else:\n",
    "                temp.append(left[index_l])\n",
    "                index_l += 1\n",
    "        elif (index_l >= size_l):\n",
    "            for i in range(index_r, size_r):\n",
    "                temp.append(right[i])\n",
    "                index_r += 1\n",
    "        else:\n",
    "            for i in range(index_l, size_l):\n",
    "                temp.append(left[i])\n",
    "                index_l += 1\n",
    "    index_temp = 0\n",
    "    index_l = 0\n",
    "    index_r = 0\n",
    "    for i in range(size_l):\n",
    "        left[index_l] = temp[index_temp]\n",
    "        index_temp += 1\n",
    "    for i in range(size_r):\n",
    "        right[index_r] = temp[index_temp]\n",
    "        index_temp += 1\n",
    "    return temp\n",
    "\n",
    "def merge_sort(arr, size):\n",
    "    if (size == 1):\n",
    "        return arr\n",
    "    a = merge_sort(arr[:size // 2], size // 2)\n",
    "    b = merge_sort(arr[size//2:], size - size//2)\n",
    "    arr = merge(a, size // 2, b, size - size//2)\n",
    "    return arr\n",
    "                        \n",
    "arr = [35, 23, 46, 86, 90, 12, 32, 67]\n",
    "arr = merge_sort(arr, len(arr))\n",
    "print(*arr)                     "
   ]
  },
  {
   "cell_type": "markdown",
   "id": "33f38b83",
   "metadata": {},
   "source": [
    "# 5.Heap Sort\n",
    "#### Time:\n",
    "    Worst-case performance\tO(nlogn)\n",
    "    Best-case performance\t O(nlogn) distinct keys, O(n) equal keys\n",
    "    Average performance\t   O(nlogn)"
   ]
  },
  {
   "cell_type": "markdown",
   "id": "cdaefa38",
   "metadata": {},
   "source": [
    "![HeapSort](https://upload.wikimedia.org/wikipedia/commons/4/4d/Heapsort-example.gif \"heap\")"
   ]
  },
  {
   "cell_type": "code",
   "execution_count": null,
   "id": "b5327cb7",
   "metadata": {},
   "outputs": [],
   "source": [
    "def max_heapify(arr, i, size):\n",
    "    largest = i;\n",
    "    if (2 * i + 1 < size and arr[largest] < arr[2 * i + 1]):\n",
    "        largest = 2 * i + 1\n",
    "    if (2 * i + 2 < size and arr[largest] < arr[2 * i + 2]):\n",
    "        largest = 2 * i + 2\n",
    "    if (largest != i):\n",
    "        arr[i], arr[largest] = arr[largest], arr[i]\n",
    "        max_heapify(arr, largest, size)\n",
    "    return;\n",
    "\n",
    "def build_heap(arr, size):\n",
    "    for i in range((size // 2) - 1, -1, -1):\n",
    "        max_heapify(arr, i, size)\n",
    "\n",
    "def heap_sort(arr, size):\n",
    "    build_heap(arr, size)\n",
    "    for i in range(size-1, 0, -1):\n",
    "        arr[i], arr[0] = arr[0], arr[i]\n",
    "        max_heapify(arr, 0, i)\n",
    "        \n",
    "arr = [35, 23 ,46, 86, 90, 12, 32, 67]\n",
    "heap_sort(arr, len(arr))\n",
    "print(*arr)"
   ]
  },
  {
   "cell_type": "markdown",
   "id": "85652c66",
   "metadata": {},
   "source": [
    "# 6.Quick Sort\n",
    "#### Time:\n",
    "    Worst-case performance\tO(n^2)\n",
    "    Best-case performance\t O(nlogn) simple partition\n",
    "    Average performance\t   O(nlogn)"
   ]
  },
  {
   "cell_type": "markdown",
   "id": "b83fd67c",
   "metadata": {},
   "source": [
    "![QuickSort](https://upload.wikimedia.org/wikipedia/commons/9/9c/Quicksort-example.gif \"quick\")"
   ]
  },
  {
   "cell_type": "code",
   "execution_count": null,
   "id": "1ce3649c",
   "metadata": {},
   "outputs": [],
   "source": [
    "def partition(arr, first, last):\n",
    "    if (first < last):\n",
    "        key = arr[last-1]\n",
    "        i = first - 1\n",
    "        for j in range(first,last):\n",
    "            if (arr[j] < key):\n",
    "                i += 1\n",
    "                arr[i], arr[j] = arr[j], arr[i]\n",
    "        arr[i+1], arr[j] = arr[j], arr[i+1]\n",
    "        return i+1\n",
    "    return first\n",
    "\n",
    "def quick_sort(arr, start, end):\n",
    "    if (end-start <= 1):\n",
    "        return\n",
    "    q = partition(arr, start, end)\n",
    "    quick_sort(arr, start, q)\n",
    "    quick_sort(arr, q, end)\n",
    "    return\n",
    "\n",
    "arr = [35, 23, 46, 86, 90, 12, 32, 67]\n",
    "quick_sort(arr, 0, len(arr))\n",
    "print(*arr)"
   ]
  },
  {
   "cell_type": "markdown",
   "id": "6bab5ace",
   "metadata": {},
   "source": [
    "# NON COMPARISON BASED ALGORITHMS:"
   ]
  },
  {
   "cell_type": "markdown",
   "id": "afdc62a1",
   "metadata": {},
   "source": [
    "# 1.Counting Sort\n",
    "#### Time:\n",
    "    Worst-case performance\tO(n + k)"
   ]
  },
  {
   "cell_type": "markdown",
   "id": "b7813660",
   "metadata": {},
   "source": [
    "![CountingSort](https://c.tenor.com/zswbYsLbYqEAAAAd/counting-sort.gif \"count\")"
   ]
  },
  {
   "cell_type": "code",
   "execution_count": null,
   "id": "5bc16a60",
   "metadata": {},
   "outputs": [],
   "source": [
    "def counting_sort(arr, nums):\n",
    "    num_arr = [0]*nums\n",
    "    for i in arr:\n",
    "        num_arr[i] += 1\n",
    "    total_index = 0\n",
    "    print(*num_arr)\n",
    "    for value,freq in enumerate(num_arr):\n",
    "        for i in range(freq):\n",
    "            arr[total_index+i] = value\n",
    "        total_index += freq\n",
    "            \n",
    "\n",
    "arr = [0,1,3,2,2,2,1,3,0,2,3] # with the info that the numbers in this array is in range 0 to 3\n",
    "counting_sort(arr, 4)\n",
    "print(*arr)"
   ]
  },
  {
   "cell_type": "markdown",
   "id": "b825cde0",
   "metadata": {},
   "source": [
    "# 2.Radix Sort\n",
    "#### Time:\n",
    "    Worst-case performance\tO(w.n)"
   ]
  },
  {
   "cell_type": "markdown",
   "id": "f90948cd",
   "metadata": {},
   "source": [
    "![RadixSort](https://upload.wikimedia.org/wikipedia/commons/0/04/%E5%9F%BA%E6%95%B0%E6%8E%92%E5%BA%8F.gif \"radix\")"
   ]
  },
  {
   "cell_type": "code",
   "execution_count": null,
   "id": "7a77c5c7",
   "metadata": {},
   "outputs": [],
   "source": [
    "def radix_sort(arr):\n",
    "    rounds = len(str(max(arr)))\n",
    "    for i in range(rounds):\n",
    "        radix_dict = {0:[],1:[],2:[],3:[],4:[],5:[],6:[],7:[],8:[],9:[]}\n",
    "        mod10 = 10**i\n",
    "        p10 = 10**(i+1)\n",
    "        for i in arr:\n",
    "            radix_dict[(i%p10)//mod10].append(i)\n",
    "        temp = []\n",
    "        for i in range(10):\n",
    "            temp.extend(radix_dict[i])\n",
    "        arr = temp\n",
    "    return arr\n",
    "            \n",
    "arr = [999, 32, 330, 12, 1, 35, 87, 675, 43, 876, 25, 52, 5]\n",
    "arr = radix_sort(arr)\n",
    "print(*arr)"
   ]
  },
  {
   "cell_type": "markdown",
   "id": "39334d78",
   "metadata": {},
   "source": [
    "# 3.Bucket Sort\n",
    "#### Time:\n",
    "    Worst-case performance\tO(n^2)\n",
    "    Average performance\t   O(n + (n^2)/k + k), where k is the number of buckets. O ( n ) , when  k ≈ n"
   ]
  },
  {
   "cell_type": "markdown",
   "id": "b27513a2",
   "metadata": {},
   "source": [
    "![BucketSort](https://media.geeksforgeeks.org/wp-content/uploads/20210224162956/ezgifcomgifmaker14.gif \"bucket\")"
   ]
  },
  {
   "cell_type": "code",
   "execution_count": null,
   "id": "ebbcf0d3",
   "metadata": {},
   "outputs": [],
   "source": [
    "from bisect import insort\n",
    "\n",
    "def bucket_sort(arr):\n",
    "    bucket_list = [[] for i in range(len(arr))]\n",
    "    m = max(arr)\n",
    "    for i in arr:\n",
    "        insort(bucket_list[(i//m)*(len(arr)-1)], i)\n",
    "    temp = []\n",
    "    for i in bucket_list:\n",
    "        temp.extend(i)\n",
    "    return temp\n",
    "    \n",
    "\n",
    "arr = [21, 10, 1, 34, 47, 52, 66, 79, 81, 90, 100]\n",
    "arr = bucket_sort(arr)\n",
    "print(*arr)"
   ]
  }
 ],
 "metadata": {
  "kernelspec": {
   "display_name": "Python 3",
   "language": "python",
   "name": "python3"
  },
  "language_info": {
   "codemirror_mode": {
    "name": "ipython",
    "version": 3
   },
   "file_extension": ".py",
   "mimetype": "text/x-python",
   "name": "python",
   "nbconvert_exporter": "python",
   "pygments_lexer": "ipython3",
   "version": "3.8.8"
  }
 },
 "nbformat": 4,
 "nbformat_minor": 5
}
