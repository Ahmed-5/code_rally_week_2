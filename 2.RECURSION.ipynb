{
 "cells": [
  {
   "cell_type": "markdown",
   "id": "06088e5a",
   "metadata": {},
   "source": [
    "# Recursion"
   ]
  },
  {
   "cell_type": "markdown",
   "id": "cde115cb",
   "metadata": {},
   "source": [
    "Recursion is a method of solving a problem where the solution depends on solutions to smaller instances of the same problem. We solve problems that have this property using recursive functions. A recursive function is a function that call itself. "
   ]
  },
  {
   "cell_type": "markdown",
   "id": "f4934538",
   "metadata": {},
   "source": [
    "## Example\n",
    "One of the famous problems that can be solved using recursion is factorial calculation. Given n we want to calculate the factorial of n. \n",
    "\n",
    "We know that the general formula of factorial calculation is: \n",
    "\n",
    "factorial(n) = n * n-1 * n-2 * n-3 * ..... * 3 * 2 * 1"
   ]
  },
  {
   "cell_type": "code",
   "execution_count": 5,
   "id": "859c5a02",
   "metadata": {
    "scrolled": true
   },
   "outputs": [
    {
     "name": "stdout",
     "output_type": "stream",
     "text": [
      "6\n"
     ]
    }
   ],
   "source": [
    "def factorial(n): \n",
    "    # base case\n",
    "    if n == 1: \n",
    "        return 1 \n",
    "    \n",
    "    # recursive call \n",
    "    return n * factorial(n-1)\n",
    "\n",
    "print(factorial(3))"
   ]
  },
  {
   "cell_type": "markdown",
   "id": "d782ff83",
   "metadata": {},
   "source": [
    "Let trace how this function calculate the results: \n",
    "\n",
    "First we call factorial(3):\n",
    "\n",
    "The return value of factorial(3) will be: \n",
    "\n",
    "    factorial(3) = 3 * factorial(2) \n",
    "    \n",
    "Second we call factorial(2):\n",
    "\n",
    "The return value of factorial(2) will be: \n",
    "\n",
    "    factorial(2) = 2 * factorial(1)\n",
    "    \n",
    "Third we call factorial(1): \n",
    "\n",
    "    factorial(1) = 1 // The base case condition is true \n",
    "    \n",
    "After that we substitute back \n",
    "\n",
    "    factorial(2) = 2 * 1\n",
    "    factorial(3) = 3 * 2 * 1 = 6"
   ]
  },
  {
   "cell_type": "markdown",
   "id": "1232904a",
   "metadata": {},
   "source": [
    "## General Structure\n",
    "From this example we can notice that the recursive function has a general structure: \n",
    "\n",
    "1- **Base Cases**: Generally these are the conditions that are used to terminate the recursion. We can also think of it as the solution of our smallest version of the problem (The minimum number that has a factorial is one). \n",
    "\n",
    "2- **Recursive Calls**: One or many recursive calls. Also, we can think of it as the relationship between the problem and its subproblems. "
   ]
  },
  {
   "cell_type": "markdown",
   "id": "d7c28277",
   "metadata": {},
   "source": [
    "## Recursive vs Iterative functions\n",
    "Iterative function: is one that loops to repeat some part of the code.\n",
    "\n",
    "Recursive function is one that calls itself again to repeat the code."
   ]
  },
  {
   "cell_type": "code",
   "execution_count": 3,
   "id": "064a6995",
   "metadata": {},
   "outputs": [
    {
     "name": "stdout",
     "output_type": "stream",
     "text": [
      "6\n"
     ]
    }
   ],
   "source": [
    "def factorial_iterative(n): \n",
    "    fact = 1\n",
    "    for i in range(2, n+1): \n",
    "        fact *= i \n",
    "    return fact \n",
    "print(factorial_iterative(3))"
   ]
  },
  {
   "cell_type": "markdown",
   "id": "2c1723f1",
   "metadata": {},
   "source": [
    "## Practice Problem \n",
    "Implement a **recursive** function (n_sum()) that calculate the sum from 1 to n. for example n_sum(3) = 6."
   ]
  },
  {
   "cell_type": "code",
   "execution_count": null,
   "id": "2515952c",
   "metadata": {
    "scrolled": true
   },
   "outputs": [],
   "source": [
    "def n_sum(n): \n",
    "    # TODO(): base cases\n",
    "    \n",
    "    # TODO(): recursive callls\n",
    "    \n",
    "print(n_sum(3)) # shoud return 6"
   ]
  },
  {
   "cell_type": "markdown",
   "id": "309b372d",
   "metadata": {},
   "source": [
    "## Fibonacci numbers\n",
    "In mathematics, the Fibonacci numbers, commonly denoted Fn, form a sequence, called the Fibonacci sequence, such that each number is the sum of the two preceding ones, starting from 0 and 1. That is\n",
    "\n",
    "$F0$ = 0, $F1$ = 1\n",
    "\n",
    "$Fn$ = $Fn-1$ + $Fn-2$\n",
    "\n",
    "0, 1, 1, 2, 3, 5, 8, 13, 21, 34, 55, 89, 144, ..."
   ]
  },
  {
   "cell_type": "code",
   "execution_count": 12,
   "id": "9ae345bb",
   "metadata": {},
   "outputs": [
    {
     "name": "stdout",
     "output_type": "stream",
     "text": [
      "2\n"
     ]
    }
   ],
   "source": [
    "def fibonacci(n): \n",
    "    # base case\n",
    "    if n <= 1: \n",
    "        return n\n",
    "    \n",
    "    # recursive calls\n",
    "    return fibonacci(n-1) + fibonacci(n-2)\n",
    "\n",
    "print(fibonacci(3))"
   ]
  },
  {
   "cell_type": "markdown",
   "id": "5f572d41",
   "metadata": {},
   "source": [
    "## Call stacks\n",
    "When we use functions in our code, the computer makes use of a data structure called a call stack. As the name suggests, a call stack is a type of stack—meaning that it is a Last-In, First-Out (LIFO) data structure.\n",
    "\n",
    "Essentially, a call stack is a stack of frames that are used for the functions that we are calling. When we call a function, say factorial(5), a frame is created in memory. All the variables local to the function are created in this memory frame. And as soon as this frame is created, it's pushed onto the call stack.\n",
    "\n",
    "The frame that lies at the top of the call stack is executed first. And as soon as the function finishes executing, this frame is discarded from the call stack."
   ]
  },
  {
   "cell_type": "code",
   "execution_count": 16,
   "id": "5e033b15",
   "metadata": {},
   "outputs": [
    {
     "ename": "RecursionError",
     "evalue": "maximum recursion depth exceeded in comparison",
     "output_type": "error",
     "traceback": [
      "\u001b[0;31m---------------------------------------------------------------------------\u001b[0m",
      "\u001b[0;31mRecursionError\u001b[0m                            Traceback (most recent call last)",
      "\u001b[0;32m<ipython-input-16-58ab6b4e4a58>\u001b[0m in \u001b[0;36m<module>\u001b[0;34m\u001b[0m\n\u001b[0;32m----> 1\u001b[0;31m \u001b[0mfactorial\u001b[0m\u001b[0;34m(\u001b[0m\u001b[0;36m10000\u001b[0m\u001b[0;34m)\u001b[0m\u001b[0;34m\u001b[0m\u001b[0;34m\u001b[0m\u001b[0m\n\u001b[0m",
      "\u001b[0;32m<ipython-input-5-b5a5742b08a9>\u001b[0m in \u001b[0;36mfactorial\u001b[0;34m(n)\u001b[0m\n\u001b[1;32m      5\u001b[0m \u001b[0;34m\u001b[0m\u001b[0m\n\u001b[1;32m      6\u001b[0m     \u001b[0;31m# recursive call\u001b[0m\u001b[0;34m\u001b[0m\u001b[0;34m\u001b[0m\u001b[0;34m\u001b[0m\u001b[0m\n\u001b[0;32m----> 7\u001b[0;31m     \u001b[0;32mreturn\u001b[0m \u001b[0mn\u001b[0m \u001b[0;34m*\u001b[0m \u001b[0mfactorial\u001b[0m\u001b[0;34m(\u001b[0m\u001b[0mn\u001b[0m\u001b[0;34m-\u001b[0m\u001b[0;36m1\u001b[0m\u001b[0;34m)\u001b[0m\u001b[0;34m\u001b[0m\u001b[0;34m\u001b[0m\u001b[0m\n\u001b[0m\u001b[1;32m      8\u001b[0m \u001b[0;34m\u001b[0m\u001b[0m\n\u001b[1;32m      9\u001b[0m \u001b[0mprint\u001b[0m\u001b[0;34m(\u001b[0m\u001b[0mfactorial\u001b[0m\u001b[0;34m(\u001b[0m\u001b[0;36m3\u001b[0m\u001b[0;34m)\u001b[0m\u001b[0;34m)\u001b[0m\u001b[0;34m\u001b[0m\u001b[0;34m\u001b[0m\u001b[0m\n",
      "... last 1 frames repeated, from the frame below ...\n",
      "\u001b[0;32m<ipython-input-5-b5a5742b08a9>\u001b[0m in \u001b[0;36mfactorial\u001b[0;34m(n)\u001b[0m\n\u001b[1;32m      5\u001b[0m \u001b[0;34m\u001b[0m\u001b[0m\n\u001b[1;32m      6\u001b[0m     \u001b[0;31m# recursive call\u001b[0m\u001b[0;34m\u001b[0m\u001b[0;34m\u001b[0m\u001b[0;34m\u001b[0m\u001b[0m\n\u001b[0;32m----> 7\u001b[0;31m     \u001b[0;32mreturn\u001b[0m \u001b[0mn\u001b[0m \u001b[0;34m*\u001b[0m \u001b[0mfactorial\u001b[0m\u001b[0;34m(\u001b[0m\u001b[0mn\u001b[0m\u001b[0;34m-\u001b[0m\u001b[0;36m1\u001b[0m\u001b[0;34m)\u001b[0m\u001b[0;34m\u001b[0m\u001b[0;34m\u001b[0m\u001b[0m\n\u001b[0m\u001b[1;32m      8\u001b[0m \u001b[0;34m\u001b[0m\u001b[0m\n\u001b[1;32m      9\u001b[0m \u001b[0mprint\u001b[0m\u001b[0;34m(\u001b[0m\u001b[0mfactorial\u001b[0m\u001b[0;34m(\u001b[0m\u001b[0;36m3\u001b[0m\u001b[0;34m)\u001b[0m\u001b[0;34m)\u001b[0m\u001b[0;34m\u001b[0m\u001b[0;34m\u001b[0m\u001b[0m\n",
      "\u001b[0;31mRecursionError\u001b[0m: maximum recursion depth exceeded in comparison"
     ]
    }
   ],
   "source": [
    "factorial(10000)"
   ]
  },
  {
   "cell_type": "markdown",
   "id": "663e4fb0",
   "metadata": {},
   "source": [
    "# Recursion Aanalysis\n",
    "\n",
    "We define time complexity as a measure of amount of time it takes to run an algorithm. Similarly, the time complexity of our function factorial(5), would indicate the amount of time taken to exceute our function factorial. But notice how when we call factorial() with a particular value of n, it recursively calls itself multiple times.\n",
    "\n",
    "In other words, when we call factorial(n), it does operations (like checking for base case, multiplying n) and then calls factorial(n - 1).\n",
    "\n",
    "Therefore, the overall time taken by factorial(n) to execute would be equal to the time taken to execute its own simple operations and the time taken to execute factorial(n - 1).\n",
    "\n",
    "Let the time taken to execute the function factorial(n) be $T(n)$. And let the time taken to exceute the function's own simple operations be represented by some constant, $k$.\n",
    "\n",
    "In that case, we can say that\n",
    "\n",
    "$$T(n) = T(n - 1) + k$$\n",
    "\n",
    "where $T(n - 1)$ represents the time taken to execute the function factorial(n - 1).\n",
    "\n",
    "Similarly, we can represent $T(n - 1)$ as\n",
    "\n",
    "$$T(n - 1) = T(n - 2) + k$$\n",
    "\n",
    "We can see that a pattern is being formed here:\n",
    "\n",
    "$T(n)\\ \\ \\ \\ \\ \\ \\      = T(n - 1) + k$\n",
    "\n",
    "$T(n - 1) = T(n - 2) + k$\n",
    "\n",
    "$T(n - 2) = T(n - 3) + k$\n",
    "\n",
    "$T(n - 3) = T(n - 4) + k$ \n",
    "\n",
    ".\n",
    "\n",
    ".\n",
    "\n",
    ".\n",
    "\n",
    ".\n",
    "\n",
    ".\n",
    "\n",
    "$T(2) = T(1) + k$\n",
    "\n",
    "$T(1) = T(0) + k$\n",
    "\n",
    "$T(0) = k1$\n",
    "\n",
    "Notice that when n = 0 we are only checking the base case and then returning. This time can be represented by some other constant, $k1$.\n",
    "\n",
    "If we add the respective left-hand sides and right-hand sides of all these equations, we get:\n",
    "\n",
    "$$T(n) = nk + k1$$\n",
    "\n",
    "We know that while calculating time complexity, we tend to ignore these added constants because for large input sizes on the order of $10^5$, these constants become irrelevant.\n",
    "\n",
    "Thus, we can simplify the above to:\n",
    "\n",
    "$$T(n) = nk $$\n",
    "\n",
    "We can see that the time complexity of our function factorial(n) is a linear function of $n$. Hence, we can say that the time complexity of the function is $O(n)$."
   ]
  },
  {
   "cell_type": "markdown",
   "id": "ad4ac60c",
   "metadata": {},
   "source": [
    "# Divide and Conquer \n",
    "This technique can be divided into the following three parts:\n",
    "\n",
    "**Divide**: This involves dividing the problem into smaller sub-problems.\n",
    "\n",
    "**Conquer**: Solve sub-problems by calling recursively until solved.\n",
    "\n",
    "**Combine**: Combine the sub-problems to get the final solution of the whole problem."
   ]
  },
  {
   "cell_type": "markdown",
   "id": "a4f6b37e",
   "metadata": {},
   "source": [
    "## Calculate pow(x,y) using Divide and Conquer (x ^ y)\n",
    "We can split the problem of calculate the power into two parts. For example, we can calculate power(2, 4) as follows: \n",
    "\n",
    "$2 ^ 4$ = $2^2 * 2^2$\n",
    "\n",
    "$2 ^ 2$ = $2^1$ * $2^1$\n",
    "\n",
    "$2 ^ 0$ = 1\n",
    "\n",
    "And for power(2, 5) then: \n",
    "\n",
    "$2 ^ 5$ = $2^3 * 2^2$\n",
    "\n",
    "$2 ^ 3$ = $2^2$ * $2^1$\n",
    "\n",
    "$2 ^ 2$ = $2^1$ * $2^1$\n",
    "\n",
    "$2 ^ 0$ = 1"
   ]
  },
  {
   "cell_type": "code",
   "execution_count": 21,
   "id": "9072e8bf",
   "metadata": {},
   "outputs": [
    {
     "name": "stdout",
     "output_type": "stream",
     "text": [
      "8\n"
     ]
    }
   ],
   "source": [
    "def power(x, y):\n",
    "    # base case\n",
    "    if (y == 0):\n",
    "        return 1\n",
    "    elif (int(y % 2) == 0):\n",
    "        #recursive call \n",
    "        return (power(x, int(y / 2)) * power(x, int(y / 2)))\n",
    "    else:\n",
    "        #recursive call \n",
    "        return (x * power(x, int(y / 2)) * power(x, int(y / 2)))\n",
    "print(power(2, 3))"
   ]
  },
  {
   "cell_type": "markdown",
   "id": "2bcad669",
   "metadata": {},
   "source": [
    "## Binary Search\n",
    "#### Overview\n",
    "\n",
    "Given a **sorted** list (say `arr`), and a key (say `target`). The binary search algorithm returns the index of the `target` element if it is present in the given `arr` list, else returns -1. Here is an overview of how the the recursive version of binary search algorithm works:\n",
    "\n",
    "1. Given a list with the lower bound (`start_index`) and the upper bound (`end_index`). \n",
    "1. Find the center (say `mid_index`) of the list. \n",
    " 1. Check if the element at the center is your `target`? If yes, return the `mid_index`.<br><br>\n",
    " 1. Check if the `target` is greater than that element at `mid_index`? If yes, call the same function with right sub-array w.r.t center i.e., updated indexes as `mid_index + 1` to `end_index` <br><br>\n",
    " 1. Check if the `target` is less than that element at `mid_index`? If yes, call the same function with left sub-array w.r.t center i.e., updated indexes as `start_index` to `mid_index - 1` <br><br>\n",
    "1. Repeat the step above until you find the target or until the bounds are the same or cross (the upper bound is less than the lower bound).\n",
    "\n",
    "#### Complexity Analysis\n",
    "Let's look at the time complexity of the recursive version of binary search algorithm.\n",
    "\n",
    ">Note: The binary search function can also be written iteratively. But for the sake of understanding recurrence relations, we will have a look at the recursive algorithm.\n",
    "\n",
    "Here's the binary search algorithm, coded using recursion:"
   ]
  },
  {
   "cell_type": "code",
   "execution_count": 18,
   "id": "0c9b3033",
   "metadata": {},
   "outputs": [],
   "source": [
    "def binary_search(arr, target):\n",
    "    return binary_search_func(arr, 0, len(arr) - 1, target)\n",
    "\n",
    "def binary_search_func(arr, start_index, end_index, target):\n",
    "    if start_index > end_index:\n",
    "        return -1\n",
    "    \n",
    "    mid_index = (start_index + end_index)//2\n",
    "    \n",
    "    if arr[mid_index] == target:\n",
    "        return mid_index\n",
    "    elif arr[mid_index] > target:\n",
    "        return binary_search_func(arr, start_index, mid_index - 1, target)\n",
    "    else:\n",
    "        return binary_search_func(arr, mid_index + 1, end_index, target)\n",
    "        "
   ]
  },
  {
   "cell_type": "code",
   "execution_count": 19,
   "id": "4a4bc5bf",
   "metadata": {},
   "outputs": [
    {
     "name": "stdout",
     "output_type": "stream",
     "text": [
      "5\n"
     ]
    }
   ],
   "source": [
    "arr = [0, 1, 2, 3, 4, 5, 6, 7, 8]\n",
    "print(binary_search(arr, 5))"
   ]
  },
  {
   "cell_type": "markdown",
   "id": "b16ca97c",
   "metadata": {},
   "source": [
    "Our `binary_search()` function calls the `binary_search_func()` function. So the time complexity of the function is entirely dependent on the time complexity of the `binary_search_func()`. \n",
    "\n",
    "The input here is an array, so our time complexity will be determined in terms of the size of the array. \n",
    "\n",
    "Like we did earlier, let's say the time complexity of `binary_search_func()` is a function of the input size, `n`. In other words, the time complexity is $T(n)$.\n",
    "\n",
    "Also keep in mind that we are usually concerned with the worst-case time complexity, and that is what we will calculate here. In the worst case, the `target` value will not be present in the array. \n",
    "\n",
    "In the `binary_search_func()` function, we first check for the base case. If the base case does not return `True`, we calculate the `mid_index` and then compare the element at this `mid_index` with the `target` values. All the operations are independent of the size of the array. Therefore, we can consider all these independent operations as taking a combined time, $k$.\n",
    "\n",
    "Apart from these constant time operations, we do just one other task. We either make a call on the left-half of the array, or on the right half of the array. By doing so, we are reducing the input size by $n/2$.\n",
    "\n",
    ">Note: Remember that we usually consider large input sizes while calculating time complexity; there is no significant difference between $10^5$ and ($10^5 + 1$).\n",
    "\n",
    "Thus, our new function call is only called with half the input size. \n",
    "We said that $T(n)$ was the time complexity of our original function. The time complexity of the function when called with half the input size will be $T(n/2)$.\n",
    "\n",
    "Therefore:\n",
    "\n",
    "$$T(n) = T(n/2) + k$$\n",
    "\n",
    "Similarly, in the next step, the time complexity of the function called with half the input size would be:\n",
    "\n",
    "$$T(n/2) = T(n/4) + k$$\n",
    "\n",
    "We can now form similar equations as we did for the last problem:\n",
    "\n",
    "1. $T(n)\\ \\ \\  = T(n/2) + k$\n",
    "2. $T(n/2) = T(n/4) + k$\n",
    "3. $T(n/4) = T(n/8) + k$\n",
    "4. $T(n/8) = T(n/16) + k$\n",
    ".<br>\n",
    ".<br>\n",
    ".<br>\n",
    ".<br>\n",
    ".<br>\n",
    ".<br>\n",
    "5. $T(4) = T(2) + k$\n",
    "6. $T(2) = T(1) + k$\n",
    "7. $T(1) = T(0) + k1$ $^{(1)}$         \n",
    "8. $T(0) = k1$\n",
    "\n",
    "$^{(1)}$ If we have only one element, we go to 0 elements next\n",
    "\n",
    "From our binary search section, we know that it takes $log(n)$ steps to go from $T(n)$ to $1$. Therefore, when we add the corresponding left-hand sides and right-hand sides, we can safely say that:\n",
    "\n",
    "$$T(n) = log(n) * k + k1$$\n",
    "\n",
    "As always, we can ignore the constant. Therefore:\n",
    "\n",
    "$$T(n) = log(n) * k $$\n",
    "\n",
    "Thus we see that the time complexity of the function is a logarithmic function of the input, $n$. Hence, the time complexity of the recursive algorithm for binary search is $log(n)$.\n",
    "\n",
    "\n",
    "\n",
    "\n"
   ]
  },
  {
   "cell_type": "markdown",
   "id": "71ec5547",
   "metadata": {},
   "source": [
    "## Iterative Binary search"
   ]
  },
  {
   "cell_type": "code",
   "execution_count": 22,
   "id": "f830627e",
   "metadata": {},
   "outputs": [],
   "source": [
    "def binary_search_iterative(arr, l, r, x):\n",
    "  \n",
    "    while l <= r:\n",
    "  \n",
    "        mid = l + (r - l) // 2;\n",
    "          \n",
    "        # Check if x is present at mid\n",
    "        if arr[mid] == x:\n",
    "            return mid\n",
    "  \n",
    "        # If x is greater, ignore left half\n",
    "        elif arr[mid] < x:\n",
    "            l = mid + 1\n",
    "  \n",
    "        # If x is smaller, ignore right half\n",
    "        else:\n",
    "            r = mid - 1\n",
    "      \n",
    "    # If we reach here, then the element\n",
    "    # was not present\n",
    "    return -1"
   ]
  },
  {
   "cell_type": "code",
   "execution_count": 24,
   "id": "bca72436",
   "metadata": {},
   "outputs": [
    {
     "name": "stdout",
     "output_type": "stream",
     "text": [
      "1\n"
     ]
    }
   ],
   "source": [
    "arr = [0, 1, 2, 3, 4, 5, 6, 7, 8]\n",
    "print(binary_search(arr, 1))"
   ]
  }
 ],
 "metadata": {
  "kernelspec": {
   "display_name": "Python 3",
   "language": "python",
   "name": "python3"
  },
  "language_info": {
   "codemirror_mode": {
    "name": "ipython",
    "version": 3
   },
   "file_extension": ".py",
   "mimetype": "text/x-python",
   "name": "python",
   "nbconvert_exporter": "python",
   "pygments_lexer": "ipython3",
   "version": "3.8.8"
  }
 },
 "nbformat": 4,
 "nbformat_minor": 5
}
